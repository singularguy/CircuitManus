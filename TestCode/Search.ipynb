{
 "cells": [
  {
   "cell_type": "code",
   "execution_count": null,
   "id": "ffcfdc71",
   "metadata": {},
   "outputs": [
    {
     "name": "stdout",
     "output_type": "stream",
     "text": [
      "[Web Search Tool] Searching for: 'latest advancements in AI' (max 2 results)\n",
      "[Web Search Tool] Found 2 results.\n",
      "\n",
      "--- Search Results (JSON String) ---\n",
      "[{\"title\": \"The Top Artificial Intelligence Trends - IBM\", \"snippet\": \"Learn how generative AI will evolve in 2024, from multimodal models to open source advancements, GPU shortages and regulation. Discover the most important AI trends for enterprises and end users, and how IBM can help you integrate AI into your workflows.\", \"link\": \"https://www.ibm.com/think/insights/artificial-intelligence-trends\"}, {\"title\": \"The 10 Biggest AI Trends Of 2025 Everyone Must Be Ready For Today - Forbes\", \"snippet\": \"Discover the 10 major AI trends set to reshape 2025: from augmented working and real-time decision-making to advanced AI legislation and sustainable AI initiatives. ... OpenAI demonstrated a new ...\", \"link\": \"https://www.forbes.com/sites/bernardmarr/2024/09/24/the-10-biggest-ai-trends-of-2025-everyone-must-be-ready-for-today/\"}]\n",
      "\n",
      "--- Search Results (Parsed) ---\n",
      "Title: The Top Artificial Intelligence Trends - IBM\n",
      "Snippet: Learn how generative AI will evolve in 2024, from multimodal models to open source advancements, GPU shortages and regulation. Discover the most important AI trends for enterprises and end users, and how IBM can help you integrate AI into your workflows.\n",
      "Link: https://www.ibm.com/think/insights/artificial-intelligence-trends\n",
      "\n",
      "Title: The 10 Biggest AI Trends Of 2025 Everyone Must Be Ready For Today - Forbes\n",
      "Snippet: Discover the 10 major AI trends set to reshape 2025: from augmented working and real-time decision-making to advanced AI legislation and sustainable AI initiatives. ... OpenAI demonstrated a new ...\n",
      "Link: https://www.forbes.com/sites/bernardmarr/2024/09/24/the-10-biggest-ai-trends-of-2025-everyone-must-be-ready-for-today/\n",
      "\n",
      "[Web Search Tool] Searching for: 'asdasfagsdgsdgqwerqwer' (max 2 results)\n",
      "[Web Search Tool] Found 0 results.\n",
      "\n",
      "--- Search No Results (JSON String) ---\n",
      "[]\n"
     ]
    }
   ],
   "source": [
    "from duckduckgo_search import DDGS\n",
    "import json\n",
    "\n",
    "def web_search(query: str, num_results: int = 3) -> str:\n",
    "    \"\"\"\n",
    "    使用 DuckDuckGo 进行网页搜索，并返回搜索结果列表。\n",
    "\n",
    "    参数:\n",
    "        query (str): 搜索查询字符串。\n",
    "        num_results (int): 需要返回的搜索结果数量。默认为 3。\n",
    "\n",
    "    返回:\n",
    "        str: 表示搜索结果列表的 JSON 字符串，\n",
    "             每个结果包含 'title', 'snippet', 和 'link'。\n",
    "             如果没有找到结果或发生错误，则返回空列表的 JSON 字符串。\n",
    "    \"\"\"\n",
    "    print(f\"[Web Search Tool] Searching for: '{query}' (max {num_results} results)\")\n",
    "    results = []\n",
    "    try:\n",
    "        with DDGS() as ddgs:\n",
    "            # ddgs.text 返回一个结果生成器\n",
    "            # 每个结果是一个类似这样的字典:\n",
    "            # {'title': '...', 'href': '...', 'body': '...'}\n",
    "            search_results = ddgs.text(keywords=query, max_results=num_results)\n",
    "            if search_results:\n",
    "                for i, r in enumerate(search_results):\n",
    "                    if i >= num_results: # 确保不超过 num_results\n",
    "                        break\n",
    "                    results.append({\n",
    "                        \"title\": r.get('title', 'N/A'),\n",
    "                        \"snippet\": r.get('body', 'N/A'), # 'body' 是 DDGS 中的摘要键\n",
    "                        \"link\": r.get('href', '#')\n",
    "                    })\n",
    "        print(f\"[Web Search Tool] Found {len(results)} results.\")\n",
    "    except Exception as e:\n",
    "        print(f\"[Web Search Tool] Error during search: {e}\")\n",
    "        # 在发生错误时返回空列表的 JSON 字符串\n",
    "        return json.dumps([])\n",
    "\n",
    "    return json.dumps(results) # 返回结果的 JSON 字符串\n",
    "\n",
    "# --- 示例用法（不是函数调用工具本身的一部分） ---\n",
    "if __name__ == \"__main__\":\n",
    "    search_query = \"latest advancements in AI\"\n",
    "    search_results_json = web_search(search_query, num_results=2)\n",
    "    print(\"\\n--- Search Results (JSON String) ---\")\n",
    "    print(search_results_json)\n",
    "\n",
    "    print(\"\\n--- Search Results (Parsed) ---\")\n",
    "    parsed_results = json.loads(search_results_json)\n",
    "    for res in parsed_results:\n",
    "        print(f\"Title: {res['title']}\")\n",
    "        print(f\"Snippet: {res['snippet']}\")\n",
    "        print(f\"Link: {res['link']}\\n\")\n",
    "\n",
    "    search_query_no_results = \"asdasfagsdgsdgqwerqwer\"\n",
    "    search_results_no_results_json = web_search(search_query_no_results, num_results=2)\n",
    "    print(\"\\n--- Search No Results (JSON String) ---\")\n",
    "    print(search_results_no_results_json)"
   ]
  },
  {
   "cell_type": "code",
   "execution_count": null,
   "id": "699cc080",
   "metadata": {},
   "outputs": [],
   "source": []
  }
 ],
 "metadata": {
  "kernelspec": {
   "display_name": "IDTAgent",
   "language": "python",
   "name": "python3"
  },
  "language_info": {
   "codemirror_mode": {
    "name": "ipython",
    "version": 3
   },
   "file_extension": ".py",
   "mimetype": "text/x-python",
   "name": "python",
   "nbconvert_exporter": "python",
   "pygments_lexer": "ipython3",
   "version": "3.10.16"
  }
 },
 "nbformat": 4,
 "nbformat_minor": 5
}
